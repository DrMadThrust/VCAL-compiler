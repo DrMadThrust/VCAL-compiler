{
 "cells": [
  {
   "cell_type": "code",
   "execution_count": null,
   "id": "ef0a4630-e4c7-42e8-8fe7-32a262072a3c",
   "metadata": {
    "tags": []
   },
   "outputs": [],
   "source": [
    "include(\"choice_constructor.jl\")\n",
    "include(\"choice_types.jl\")\n",
    "include(\"choice_memhandler.jl\")\n",
    "include(\"choice_core.jl\")\n",
    "include(\"choice_parser.jl\")"
   ]
  },
  {
   "cell_type": "code",
   "execution_count": null,
   "id": "b3498321-ab06-4093-9ab6-94add30e0d7c",
   "metadata": {
    "tags": []
   },
   "outputs": [],
   "source": [
    "naive_compile(\"vibeonacci2\")"
   ]
  },
  {
   "cell_type": "code",
   "execution_count": null,
   "id": "daa75ba3-6a52-470a-b7d8-2d229906b7ce",
   "metadata": {},
   "outputs": [],
   "source": []
  }
 ],
 "metadata": {
  "kernelspec": {
   "display_name": "Julia 1.6.7",
   "language": "julia",
   "name": "julia-1.6"
  },
  "language_info": {
   "file_extension": ".jl",
   "mimetype": "application/julia",
   "name": "julia",
   "version": "1.6.7"
  }
 },
 "nbformat": 4,
 "nbformat_minor": 5
}
