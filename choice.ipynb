{
 "cells": [
  {
   "cell_type": "code",
   "execution_count": 228,
   "id": "ef0a4630-e4c7-42e8-8fe7-32a262072a3c",
   "metadata": {
    "tags": []
   },
   "outputs": [
    {
     "data": {
      "text/plain": [
       "parseVcal (generic function with 1 method)"
      ]
     },
     "execution_count": 228,
     "metadata": {},
     "output_type": "execute_result"
    }
   ],
   "source": [
    "include(\"choice_constructor.jl\")\n",
    "include(\"choice_types.jl\")\n",
    "include(\"choice_memhandler.jl\")\n",
    "include(\"choice_core.jl\")\n",
    "include(\"choice_parser.jl\")"
   ]
  },
  {
   "cell_type": "code",
   "execution_count": 229,
   "id": "171bf966-5822-4f7b-9146-7c9880bfbb2a",
   "metadata": {
    "tags": []
   },
   "outputs": [
    {
     "data": {
      "text/plain": [
       "compile (generic function with 2 methods)"
      ]
     },
     "execution_count": 229,
     "metadata": {},
     "output_type": "execute_result"
    }
   ],
   "source": [
    "function compile(source, outname=source)\n",
    "    source = source*\".vcal\"\n",
    "    outname = outname*\".axm\"\n",
    "    vcal = load(source)\n",
    "    functions = parseVcal(vcal)\n",
    "    preasm = choose(functions[\"main\"], functions)\n",
    "    create(preasm, outname)\n",
    "end"
   ]
  },
  {
   "cell_type": "code",
   "execution_count": 230,
   "id": "b3498321-ab06-4093-9ab6-94add30e0d7c",
   "metadata": {
    "tags": []
   },
   "outputs": [],
   "source": [
    "compile(\"vibeonacci2\")"
   ]
  },
  {
   "cell_type": "code",
   "execution_count": null,
   "id": "25c0a0e6-7a49-4a03-9655-24e5e3396e13",
   "metadata": {},
   "outputs": [],
   "source": []
  }
 ],
 "metadata": {
  "kernelspec": {
   "display_name": "Julia 1.6.7",
   "language": "julia",
   "name": "julia-1.6"
  },
  "language_info": {
   "file_extension": ".jl",
   "mimetype": "application/julia",
   "name": "julia",
   "version": "1.6.7"
  }
 },
 "nbformat": 4,
 "nbformat_minor": 5
}
